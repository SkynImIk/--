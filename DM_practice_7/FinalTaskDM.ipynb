{
  "nbformat": 4,
  "nbformat_minor": 0,
  "metadata": {
    "colab": {
      "provenance": []
    },
    "kernelspec": {
      "name": "python3",
      "display_name": "Python 3"
    },
    "language_info": {
      "name": "python"
    }
  },
  "cells": [
    {
      "cell_type": "markdown",
      "source": [
        "# **Motorbike Ambulance Calls**\n",
        ">Motorbike accidents and corresponded ambulance calls are highly depended on environmental and seasonal settings, like weather conditions, precipitation, day of week, season, hour of the day, etc. The data was aggregated over the course of two years, on hourly basis, and then extracted and extended with the corresponding weather and seasonal information.\n",
        "\n",
        "\n",
        "## **Associated tasks**\n",
        "\n",
        "---\n",
        "\n",
        "\n",
        "**Regression**\n",
        "\n",
        "Prediction of the hourly ambulance calls count based on the environmental and seasonal settings. Prediction model should provide monotonic in the terms of some features, if it is proved by data.\n",
        "\n",
        "**Event and Anomaly Detection**\n",
        "\n",
        "Define the  ambulance calls patterns with respect of special events and define the cases that might be considered as abnormal behavior.  \n",
        "\n",
        "**Deliverables**\n",
        "\n",
        "Full Texts Report that contains detail description of Data Analysis, Data Modelling and Patterns/Anomaly detection processes with conclusions and their explanations.\n",
        "What is important here:\n",
        "* See the **way you’re thinking** – what actions you’re implementing and why\n",
        "* How **you code** and wrangle the data\n",
        "* **Storytelling** capabilities – so we’re looking for the full-text structured report separately from the code/notebook\n",
        "* **Suggestions** on the further  analytics/approaches which could be applied\n",
        "\n",
        "## **Dataset characteristics:**\n",
        "\n",
        "---\n",
        "\n",
        "\n",
        "\n",
        "motorbike_ambulance_calls.csv has the following fields:\n",
        "\n",
        "              - index: record index\n",
        "              - date : date\n",
        "              - season : season (1:springer, 2:summer, 3:fall, 4:winter)\n",
        "              - yr : year (0: 2011, 1:2012)\n",
        "              - mnth : month ( 1 to 12)\n",
        "              - hr : hour (0 to 23)\n",
        "              - holiday : whether day is holiday or not\n",
        "              - weekday : day of the week\n",
        "              - workingday : if day is neither weekend nor holiday is 1, otherwise is 0.\n",
        "              -  weathersit :\n",
        "                      - 1: Clear, Few clouds, Partly cloudy, Partly cloudy\n",
        "                      - 2: Mist + Cloudy, Mist + Broken clouds, Mist + Few clouds, Mist\n",
        "                      - 3: Light Snow, Light Rain + Thunderstorm + Scattered clouds, Light Rain + Scattered clouds\n",
        "                      - 4: Heavy Rain + Ice Pallets + Thunderstorm + Mist, Snow + Fog\n",
        "              - temp : Normalized temperature in Celsius. The values are divided to 41 (max)\n",
        "              - atemp: Normalized feeling temperature in Celsius. The values are divided to 50 (max)\n",
        "              - hum: Normalized humidity. The values are divided to 100 (max)\n",
        "              - windspeed: Normalized wind speed. The values are divided to 67 (max)\n",
        "              - cnt: count of total ambulance calls\n"
      ],
      "metadata": {
        "id": "zAQrzT03mc2b"
      }
    },
    {
      "cell_type": "code",
      "execution_count": null,
      "metadata": {
        "id": "Ru6OJ9GSmbkz"
      },
      "outputs": [],
      "source": [
        "import pandas as pd\n",
        "import numpy as np\n",
        "import scipy as sc\n",
        "import matplotlib.pyplot as plt\n",
        "import seaborn as sns\n",
        "from matplotlib.pylab import rcParams\n",
        "%matplotlib inline"
      ]
    }
  ]
}